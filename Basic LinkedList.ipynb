{
 "cells": [
  {
   "cell_type": "code",
   "execution_count": 1,
   "metadata": {},
   "outputs": [
    {
     "name": "stdout",
     "output_type": "stream",
     "text": [
      "None\n",
      "D\n",
      "C\n",
      "B\n",
      "A\n",
      "The Length of LinkedList is: 4\n"
     ]
    }
   ],
   "source": [
    "class Node:\n",
    "    def __init__(self,data):\n",
    "        self.data=data\n",
    "        self.head=None\n",
    "\n",
    "class LinkedList:\n",
    "    \n",
    "    def __init__(self):\n",
    "        self.head=None\n",
    "    \n",
    "    def push(self,new_data):\n",
    "        new_node=Node(new_data)\n",
    "        new_node.next=self.head\n",
    "        self.head=new_node\n",
    "    \n",
    "    def deleteNode(self,key):\n",
    "        current_node=self.head\n",
    "        if current_node is not None and current_node.data==key:\n",
    "            self.head=current_node.next\n",
    "            current_node=None\n",
    "            return\n",
    "        previous_node=None\n",
    "        while current_node is not None and current_node!=key:\n",
    "            previous_node=current_node\n",
    "            current_node=current_node.next\n",
    "            \n",
    "        previous_node.next=current_node.next\n",
    "        current_node=None\n",
    "    \n",
    "    def reverse_linkedList(self):\n",
    "        current_node=self.head\n",
    "        previous_node=None\n",
    "        while current_node is not None:\n",
    "            next=current_node.next\n",
    "            current_node.next=previous_node\n",
    "            previous_node=current_node\n",
    "            current_node =next\n",
    "        self.head=previous_node\n",
    "        \n",
    "            \n",
    "            \n",
    "    \n",
    "    def SearchLinkedList(self,key):\n",
    "        current_node=self.head\n",
    "        ##base case\n",
    "        ## if node equals null either return false or return exception\n",
    "        ## if node contains single element and matches the key, return True\n",
    "        if current_node is not None:\n",
    "            if(current_node.data==key):\n",
    "                return True\n",
    "            while current_node.next is not None:\n",
    "                current_node=current_node.next\n",
    "                if current_node and current_node.data==key:\n",
    "                    return True\n",
    "        return False\n",
    "       \n",
    "    \n",
    "    def printList(self):\n",
    "        count=0\n",
    "        temp=self.head\n",
    "        while temp:\n",
    "            print(temp.data)\n",
    "            count=count+1\n",
    "            temp=temp.next\n",
    "        print(\"The Length of LinkedList is:\", count)\n",
    "            \n",
    "if __name__ ==\"__main__\":\n",
    "    link=LinkedList()\n",
    "    link.push(\"D\")\n",
    "    link.push(\"C\")\n",
    "    link.push(\"B\")\n",
    "    link.push(\"A\")\n",
    "    res=link.SearchLinkedList(\"A\")\n",
    "    reverse=link.reverse_linkedList()\n",
    "    print(reverse,)\n",
    "    link.printList()"
   ]
  },
  {
   "cell_type": "code",
   "execution_count": null,
   "metadata": {},
   "outputs": [],
   "source": []
  }
 ],
 "metadata": {
  "kernelspec": {
   "display_name": "Python 3",
   "language": "python",
   "name": "python3"
  },
  "language_info": {
   "codemirror_mode": {
    "name": "ipython",
    "version": 3
   },
   "file_extension": ".py",
   "mimetype": "text/x-python",
   "name": "python",
   "nbconvert_exporter": "python",
   "pygments_lexer": "ipython3",
   "version": "3.8.5"
  }
 },
 "nbformat": 4,
 "nbformat_minor": 4
}
